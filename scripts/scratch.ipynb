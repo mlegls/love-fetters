{
 "cells": [
  {
   "cell_type": "code",
   "execution_count": 10,
   "metadata": {},
   "outputs": [],
   "source": [
    "using Twitter\n",
    "using OAuth"
   ]
  },
  {
   "cell_type": "code",
   "execution_count": 32,
   "metadata": {},
   "outputs": [
    {
     "data": {
      "text/plain": [
       "Dict{Symbol, String} with 4 entries:\n",
       "  :consumer_secret => \"Bxtbob95FHZfE3cGOJuMRwdFVwXClnTqIeYMRRoYQMxBFevhCx\"\n",
       "  :oauth_token     => \"aFlTTkRicjRpNktGWDhfOXhQOUE6MTpjaQ\"\n",
       "  :oauth_secret    => \"I0aM_Vd1HtyapjojqUzE6GfKEiAT5LXa6K2N6VW1rDUb5cIreg\"\n",
       "  :consumer_key    => \"MQmoa04B5FqbEVnb7hcCLal9F\""
      ]
     },
     "metadata": {},
     "output_type": "display_data"
    }
   ],
   "source": [
    "twitterauth(\n",
    "  \"MQmoa04B5FqbEVnb7hcCLal9F\",\n",
    "  \"Bxtbob95FHZfE3cGOJuMRwdFVwXClnTqIeYMRRoYQMxBFevhCx\",\n",
    "  \"1223167297495285760-df7JaBQFtP9As1CrKsHyG5BVCr4C60\",\n",
    "  \"U93Qs5LyC5Sv2aXpn40QTP0C5o8NXsp7s4qLdvg2B8vqx\"\n",
    ")\n",
    "\n",
    "creds = Dict(\n",
    "  :consumer_key => \"MQmoa04B5FqbEVnb7hcCLal9F\",\n",
    "  :consumer_secret => \"Bxtbob95FHZfE3cGOJuMRwdFVwXClnTqIeYMRRoYQMxBFevhCx\",\n",
    "  :oauth_token => \"1223167297495285760-df7JaBQFtP9As1CrKsHyG5BVCr4C60\",\n",
    "  :oauth_secret => \"U93Qs5LyC5Sv2aXpn40QTP0C5o8NXsp7s4qLdvg2B8vqx\"\n",
    ")"
   ]
  },
  {
   "cell_type": "code",
   "execution_count": 33,
   "metadata": {},
   "outputs": [
    {
     "data": {
      "text/plain": [
       "get_oauth (generic function with 1 method)"
      ]
     },
     "metadata": {},
     "output_type": "display_data"
    }
   ],
   "source": [
    "get_oauth(endpoint::String, options::Dict) = oauth_request_resource(endpoint, \"GET\", options, creds[:consumer_key], creds[:consumer_secret], creds[:oauth_token], creds[:oauth_secret])"
   ]
  },
  {
   "cell_type": "code",
   "execution_count": 34,
   "metadata": {},
   "outputs": [
    {
     "ename": "HTTP.Exceptions.StatusError",
     "evalue": "HTTP.Exceptions.StatusError(401, \"GET\", \"/1.1/direct_messages/events/list.json?count=20\", HTTP.Messages.Response:\n\"\"\"\nHTTP/1.1 401 Unauthorized\r\nperf: 7626143928\r\ncontent-type: application/json;charset=utf-8\r\ncache-control: no-cache, no-store, max-age=0\r\nx-transaction-id: 0665dea01c4b6bee\r\ncontent-encoding: gzip\r\ncontent-length: 87\r\nx-response-time: 4\r\nx-connection-hash: 2ae4b8f56fb1625a0ec4568700a9f1cfbc3301bcc45ba574129b7a97028ba78e\r\ndate: Mon, 24 Oct 2022 19:37:30 GMT\r\nserver: tsa_a\r\n\r\n{\"errors\":[{\"message\":\"Invalid or expired token\",\"code\":89}]}\n\"\"\")",
     "output_type": "error",
     "traceback": [
      "HTTP.Exceptions.StatusError(401, \"GET\", \"/1.1/direct_messages/events/list.json?count=20\", HTTP.Messages.Response:\n",
      "\"\"\"\n",
      "HTTP/1.1 401 Unauthorized\r\n",
      "perf: 7626143928\r\n",
      "content-type: application/json;charset=utf-8\r\n",
      "cache-control: no-cache, no-store, max-age=0\r\n",
      "x-transaction-id: 0665dea01c4b6bee\r\n",
      "content-encoding: gzip\r\n",
      "content-length: 87\r\n",
      "x-response-time: 4\r\n",
      "x-connection-hash: 2ae4b8f56fb1625a0ec4568700a9f1cfbc3301bcc45ba574129b7a97028ba78e\r\n",
      "date: Mon, 24 Oct 2022 19:37:30 GMT\r\n",
      "server: tsa_a\r\n",
      "\r\n",
      "{\"errors\":[{\"message\":\"Invalid or expired token\",\"code\":89}]}\n",
      "\"\"\")\n",
      "\n",
      "Stacktrace:\n",
      "  [1] (::HTTP.ExceptionRequest.var\"#1#3\"{HTTP.ExceptionRequest.var\"#1#2#4\"{typeof(HTTP.StreamRequest.streamlayer)}})(stream::HTTP.Streams.Stream{HTTP.Messages.Response, HTTP.ConnectionPool.Connection}; status_exception::Bool, kw::Base.Pairs{Symbol, Union{Nothing, Int64}, Tuple{Symbol, Symbol, Symbol}, NamedTuple{(:iofunction, :decompress, :verbose), Tuple{Nothing, Nothing, Int64}}})\n",
      "    @ HTTP.ExceptionRequest ~/.julia/packages/HTTP/a7H3J/src/clientlayers/ExceptionRequest.jl:16\n",
      "  [2] #1#2\n",
      "    @ ~/.julia/packages/HTTP/a7H3J/src/clientlayers/TimeoutRequest.jl:17 [inlined]\n",
      "  [3] (::HTTP.ConnectionRequest.var\"#1#7\"{HTTP.ConnectionRequest.var\"#1#2#8\"{HTTP.TimeoutRequest.var\"#1#6\"{HTTP.TimeoutRequest.var\"#1#2#7\"{HTTP.ExceptionRequest.var\"#1#3\"{HTTP.ExceptionRequest.var\"#1#2#4\"{typeof(HTTP.StreamRequest.streamlayer)}}}}}})(req::HTTP.Messages.Request; proxy::Nothing, socket_type::Type, socket_type_tls::Type, readtimeout::Int64, kw::Base.Pairs{Symbol, Union{Nothing, Int64}, Tuple{Symbol, Symbol, Symbol}, NamedTuple{(:iofunction, :decompress, :verbose), Tuple{Nothing, Nothing, Int64}}})\n",
      "    @ HTTP.ConnectionRequest ~/.julia/packages/HTTP/a7H3J/src/clientlayers/ConnectionRequest.jl:111\n",
      "  [4] (::HTTP.CanonicalizeRequest.var\"#1#3\"{HTTP.CanonicalizeRequest.var\"#1#2#4\"{HTTP.ConnectionRequest.var\"#1#7\"{HTTP.ConnectionRequest.var\"#1#2#8\"{HTTP.TimeoutRequest.var\"#1#6\"{HTTP.TimeoutRequest.var\"#1#2#7\"{HTTP.ExceptionRequest.var\"#1#3\"{HTTP.ExceptionRequest.var\"#1#2#4\"{typeof(HTTP.StreamRequest.streamlayer)}}}}}}}})(req::HTTP.Messages.Request; canonicalize_headers::Bool, kw::Base.Pairs{Symbol, Union{Nothing, Int64}, Tuple{Symbol, Symbol, Symbol}, NamedTuple{(:iofunction, :decompress, :verbose), Tuple{Nothing, Nothing, Int64}}})\n",
      "    @ HTTP.CanonicalizeRequest ~/.julia/packages/HTTP/a7H3J/src/clientlayers/CanonicalizeRequest.jl:17\n",
      "  [5] (::Base.var\"#88#90\"{Base.var\"#88#89#91\"{ExponentialBackOff, HTTP.RetryRequest.var\"#3#6\"{Int64, HTTP.Messages.Request, Base.RefValue{Int64}}, HTTP.CanonicalizeRequest.var\"#1#3\"{HTTP.CanonicalizeRequest.var\"#1#2#4\"{HTTP.ConnectionRequest.var\"#1#7\"{HTTP.ConnectionRequest.var\"#1#2#8\"{HTTP.TimeoutRequest.var\"#1#6\"{HTTP.TimeoutRequest.var\"#1#2#7\"{HTTP.ExceptionRequest.var\"#1#3\"{HTTP.ExceptionRequest.var\"#1#2#4\"{typeof(HTTP.StreamRequest.streamlayer)}}}}}}}}}})(args::HTTP.Messages.Request; kwargs::Base.Pairs{Symbol, Union{Nothing, Int64}, Tuple{Symbol, Symbol, Symbol}, NamedTuple{(:iofunction, :decompress, :verbose), Tuple{Nothing, Nothing, Int64}}})\n",
      "    @ Base ./error.jl:296\n",
      "  [6] (::HTTP.RetryRequest.var\"#1#4\"{HTTP.RetryRequest.var\"#1#2#5\"{HTTP.CanonicalizeRequest.var\"#1#3\"{HTTP.CanonicalizeRequest.var\"#1#2#4\"{HTTP.ConnectionRequest.var\"#1#7\"{HTTP.ConnectionRequest.var\"#1#2#8\"{HTTP.TimeoutRequest.var\"#1#6\"{HTTP.TimeoutRequest.var\"#1#2#7\"{HTTP.ExceptionRequest.var\"#1#3\"{HTTP.ExceptionRequest.var\"#1#2#4\"{typeof(HTTP.StreamRequest.streamlayer)}}}}}}}}}})(req::HTTP.Messages.Request; retry::Bool, retries::Int64, retry_non_idempotent::Bool, kw::Base.Pairs{Symbol, Union{Nothing, Int64}, Tuple{Symbol, Symbol, Symbol}, NamedTuple{(:iofunction, :decompress, :verbose), Tuple{Nothing, Nothing, Int64}}})\n",
      "    @ HTTP.RetryRequest ~/.julia/packages/HTTP/a7H3J/src/clientlayers/RetryRequest.jl:62\n",
      "  [7] (::HTTP.CookieRequest.var\"#1#5\"{HTTP.CookieRequest.var\"#1#2#6\"{HTTP.RetryRequest.var\"#1#4\"{HTTP.RetryRequest.var\"#1#2#5\"{HTTP.CanonicalizeRequest.var\"#1#3\"{HTTP.CanonicalizeRequest.var\"#1#2#4\"{HTTP.ConnectionRequest.var\"#1#7\"{HTTP.ConnectionRequest.var\"#1#2#8\"{HTTP.TimeoutRequest.var\"#1#6\"{HTTP.TimeoutRequest.var\"#1#2#7\"{HTTP.ExceptionRequest.var\"#1#3\"{HTTP.ExceptionRequest.var\"#1#2#4\"{typeof(HTTP.StreamRequest.streamlayer)}}}}}}}}}}}})(req::HTTP.Messages.Request; cookies::Bool, cookiejar::HTTP.Cookies.CookieJar, kw::Base.Pairs{Symbol, Union{Nothing, Int64}, Tuple{Symbol, Symbol, Symbol}, NamedTuple{(:iofunction, :decompress, :verbose), Tuple{Nothing, Nothing, Int64}}})\n",
      "    @ HTTP.CookieRequest ~/.julia/packages/HTTP/a7H3J/src/clientlayers/CookieRequest.jl:42\n",
      "  [8] (::HTTP.ContentTypeDetection.var\"#1#3\"{HTTP.ContentTypeDetection.var\"#1#2#4\"{HTTP.CookieRequest.var\"#1#5\"{HTTP.CookieRequest.var\"#1#2#6\"{HTTP.RetryRequest.var\"#1#4\"{HTTP.RetryRequest.var\"#1#2#5\"{HTTP.CanonicalizeRequest.var\"#1#3\"{HTTP.CanonicalizeRequest.var\"#1#2#4\"{HTTP.ConnectionRequest.var\"#1#7\"{HTTP.ConnectionRequest.var\"#1#2#8\"{HTTP.TimeoutRequest.var\"#1#6\"{HTTP.TimeoutRequest.var\"#1#2#7\"{HTTP.ExceptionRequest.var\"#1#3\"{HTTP.ExceptionRequest.var\"#1#2#4\"{typeof(HTTP.StreamRequest.streamlayer)}}}}}}}}}}}}}})(req::HTTP.Messages.Request; detect_content_type::Bool, kw::Base.Pairs{Symbol, Union{Nothing, Int64}, Tuple{Symbol, Symbol, Symbol}, NamedTuple{(:iofunction, :decompress, :verbose), Tuple{Nothing, Nothing, Int64}}})\n",
      "    @ HTTP.ContentTypeDetection ~/.julia/packages/HTTP/a7H3J/src/clientlayers/ContentTypeRequest.jl:23\n",
      "  [9] (::HTTP.BasicAuthRequest.var\"#1#3\"{HTTP.BasicAuthRequest.var\"#1#2#4\"{HTTP.ContentTypeDetection.var\"#1#3\"{HTTP.ContentTypeDetection.var\"#1#2#4\"{HTTP.CookieRequest.var\"#1#5\"{HTTP.CookieRequest.var\"#1#2#6\"{HTTP.RetryRequest.var\"#1#4\"{HTTP.RetryRequest.var\"#1#2#5\"{HTTP.CanonicalizeRequest.var\"#1#3\"{HTTP.CanonicalizeRequest.var\"#1#2#4\"{HTTP.ConnectionRequest.var\"#1#7\"{HTTP.ConnectionRequest.var\"#1#2#8\"{HTTP.TimeoutRequest.var\"#1#6\"{HTTP.TimeoutRequest.var\"#1#2#7\"{HTTP.ExceptionRequest.var\"#1#3\"{HTTP.ExceptionRequest.var\"#1#2#4\"{typeof(HTTP.StreamRequest.streamlayer)}}}}}}}}}}}}}}}})(req::HTTP.Messages.Request; basicauth::Bool, kw::Base.Pairs{Symbol, Union{Nothing, Int64}, Tuple{Symbol, Symbol, Symbol}, NamedTuple{(:iofunction, :decompress, :verbose), Tuple{Nothing, Nothing, Int64}}})\n",
      "    @ HTTP.BasicAuthRequest ~/.julia/packages/HTTP/a7H3J/src/clientlayers/BasicAuthRequest.jl:22\n",
      " [10] (::HTTP.DefaultHeadersRequest.var\"#1#3\"{HTTP.DefaultHeadersRequest.var\"#1#2#4\"{HTTP.BasicAuthRequest.var\"#1#3\"{HTTP.BasicAuthRequest.var\"#1#2#4\"{HTTP.ContentTypeDetection.var\"#1#3\"{HTTP.ContentTypeDetection.var\"#1#2#4\"{HTTP.CookieRequest.var\"#1#5\"{HTTP.CookieRequest.var\"#1#2#6\"{HTTP.RetryRequest.var\"#1#4\"{HTTP.RetryRequest.var\"#1#2#5\"{HTTP.CanonicalizeRequest.var\"#1#3\"{HTTP.CanonicalizeRequest.var\"#1#2#4\"{HTTP.ConnectionRequest.var\"#1#7\"{HTTP.ConnectionRequest.var\"#1#2#8\"{HTTP.TimeoutRequest.var\"#1#6\"{HTTP.TimeoutRequest.var\"#1#2#7\"{HTTP.ExceptionRequest.var\"#1#3\"{HTTP.ExceptionRequest.var\"#1#2#4\"{typeof(HTTP.StreamRequest.streamlayer)}}}}}}}}}}}}}}}}}})(req::HTTP.Messages.Request; iofunction::Nothing, decompress::Nothing, kw::Base.Pairs{Symbol, Int64, Tuple{Symbol}, NamedTuple{(:verbose,), Tuple{Int64}}})\n",
      "    @ HTTP.DefaultHeadersRequest ~/.julia/packages/HTTP/a7H3J/src/clientlayers/DefaultHeadersRequest.jl:47\n",
      " [11] (::HTTP.RedirectRequest.var\"#1#4\"{HTTP.RedirectRequest.var\"#1#2#5\"{HTTP.DefaultHeadersRequest.var\"#1#3\"{HTTP.DefaultHeadersRequest.var\"#1#2#4\"{HTTP.BasicAuthRequest.var\"#1#3\"{HTTP.BasicAuthRequest.var\"#1#2#4\"{HTTP.ContentTypeDetection.var\"#1#3\"{HTTP.ContentTypeDetection.var\"#1#2#4\"{HTTP.CookieRequest.var\"#1#5\"{HTTP.CookieRequest.var\"#1#2#6\"{HTTP.RetryRequest.var\"#1#4\"{HTTP.RetryRequest.var\"#1#2#5\"{HTTP.CanonicalizeRequest.var\"#1#3\"{HTTP.CanonicalizeRequest.var\"#1#2#4\"{HTTP.ConnectionRequest.var\"#1#7\"{HTTP.ConnectionRequest.var\"#1#2#8\"{HTTP.TimeoutRequest.var\"#1#6\"{HTTP.TimeoutRequest.var\"#1#2#7\"{HTTP.ExceptionRequest.var\"#1#3\"{HTTP.ExceptionRequest.var\"#1#2#4\"{typeof(HTTP.StreamRequest.streamlayer)}}}}}}}}}}}}}}}}}}}})(req::HTTP.Messages.Request; redirect::Bool, redirect_limit::Int64, redirect_method::Nothing, forwardheaders::Bool, response_stream::Nothing, kw::Base.Pairs{Symbol, Int64, Tuple{Symbol}, NamedTuple{(:verbose,), Tuple{Int64}}})\n",
      "    @ HTTP.RedirectRequest ~/.julia/packages/HTTP/a7H3J/src/clientlayers/RedirectRequest.jl:25\n",
      " [12] #1#2\n",
      "    @ ~/.julia/packages/HTTP/a7H3J/src/clientlayers/DebugRequest.jl:23 [inlined]\n",
      " [13] (::HTTP.MessageRequest.var\"#1#3\"{HTTP.MessageRequest.var\"#1#2#4\"{HTTP.DebugRequest.var\"#1#4\"{HTTP.DebugRequest.var\"#1#2#5\"{HTTP.RedirectRequest.var\"#1#4\"{HTTP.RedirectRequest.var\"#1#2#5\"{HTTP.DefaultHeadersRequest.var\"#1#3\"{HTTP.DefaultHeadersRequest.var\"#1#2#4\"{HTTP.BasicAuthRequest.var\"#1#3\"{HTTP.BasicAuthRequest.var\"#1#2#4\"{HTTP.ContentTypeDetection.var\"#1#3\"{HTTP.ContentTypeDetection.var\"#1#2#4\"{HTTP.CookieRequest.var\"#1#5\"{HTTP.CookieRequest.var\"#1#2#6\"{HTTP.RetryRequest.var\"#1#4\"{HTTP.RetryRequest.var\"#1#2#5\"{HTTP.CanonicalizeRequest.var\"#1#3\"{HTTP.CanonicalizeRequest.var\"#1#2#4\"{HTTP.ConnectionRequest.var\"#1#7\"{HTTP.ConnectionRequest.var\"#1#2#8\"{HTTP.TimeoutRequest.var\"#1#6\"{HTTP.TimeoutRequest.var\"#1#2#7\"{HTTP.ExceptionRequest.var\"#1#3\"{HTTP.ExceptionRequest.var\"#1#2#4\"{typeof(HTTP.StreamRequest.streamlayer)}}}}}}}}}}}}}}}}}}}}}}}})(method::String, url::URIs.URI, headers::Vector{Pair{SubString{String}, SubString{String}}}, body::Vector{UInt8}; response_stream::Nothing, http_version::VersionNumber, kw::Base.Pairs{Symbol, Union{}, Tuple{}, NamedTuple{(), Tuple{}}})\n",
      "    @ HTTP.MessageRequest ~/.julia/packages/HTTP/a7H3J/src/clientlayers/MessageRequest.jl:17\n",
      " [14] #1\n",
      "    @ ~/.julia/packages/HTTP/a7H3J/src/clientlayers/MessageRequest.jl:15 [inlined]\n",
      " [15] request(stack::HTTP.MessageRequest.var\"#1#3\"{HTTP.MessageRequest.var\"#1#2#4\"{HTTP.DebugRequest.var\"#1#4\"{HTTP.DebugRequest.var\"#1#2#5\"{HTTP.RedirectRequest.var\"#1#4\"{HTTP.RedirectRequest.var\"#1#2#5\"{HTTP.DefaultHeadersRequest.var\"#1#3\"{HTTP.DefaultHeadersRequest.var\"#1#2#4\"{HTTP.BasicAuthRequest.var\"#1#3\"{HTTP.BasicAuthRequest.var\"#1#2#4\"{HTTP.ContentTypeDetection.var\"#1#3\"{HTTP.ContentTypeDetection.var\"#1#2#4\"{HTTP.CookieRequest.var\"#1#5\"{HTTP.CookieRequest.var\"#1#2#6\"{HTTP.RetryRequest.var\"#1#4\"{HTTP.RetryRequest.var\"#1#2#5\"{HTTP.CanonicalizeRequest.var\"#1#3\"{HTTP.CanonicalizeRequest.var\"#1#2#4\"{HTTP.ConnectionRequest.var\"#1#7\"{HTTP.ConnectionRequest.var\"#1#2#8\"{HTTP.TimeoutRequest.var\"#1#6\"{HTTP.TimeoutRequest.var\"#1#2#7\"{HTTP.ExceptionRequest.var\"#1#3\"{HTTP.ExceptionRequest.var\"#1#2#4\"{typeof(HTTP.StreamRequest.streamlayer)}}}}}}}}}}}}}}}}}}}}}}}}, method::String, url::String, h::Dict{String, String}, b::Vector{UInt8}, q::Nothing; headers::Dict{String, String}, body::Vector{UInt8}, query::Nothing, kw::Base.Pairs{Symbol, Union{}, Tuple{}, NamedTuple{(), Tuple{}}})\n",
      "    @ HTTP ~/.julia/packages/HTTP/a7H3J/src/HTTP.jl:417\n",
      " [16] request(stack::Function, method::String, url::String, h::Dict{String, String}, b::Vector{UInt8}, q::Nothing)\n",
      "    @ HTTP ~/.julia/packages/HTTP/a7H3J/src/HTTP.jl:415\n",
      " [17] #request#16\n",
      "    @ ~/.julia/packages/HTTP/a7H3J/src/HTTP.jl:277 [inlined]\n",
      " [18] #get#34\n",
      "    @ ~/.julia/packages/HTTP/a7H3J/src/HTTP.jl:472 [inlined]\n",
      " [19] oauth_request_resource(endpoint::String, httpmethod::String, options::Dict{String, String}, oauth_consumer_key::String, oauth_consumer_secret::String, oauth_token::String, oauth_token_secret::String)\n",
      "    @ OAuth ~/.julia/packages/OAuth/b67rp/src/OAuth.jl:291\n",
      " [20] get_oauth(endpoint::String, options::Dict{String, String})\n",
      "    @ Main /Volumes/EP_1TB/Development/love_fetters/scripts/scratch.ipynb:1\n",
      " [21] top-level scope\n",
      "    @ /Volumes/EP_1TB/Development/love_fetters/scripts/scratch.ipynb:1"
     ]
    }
   ],
   "source": [
    "dms = get_oauth(\n",
    "  \"https://api.twitter.com/1.1/direct_messages/events/list.json\",\n",
    "  Dict(\"count\" => \"20\"))"
   ]
  },
  {
   "cell_type": "code",
   "execution_count": null,
   "metadata": {},
   "outputs": [],
   "source": []
  }
 ],
 "metadata": {
  "kernelspec": {
   "display_name": "Julia 1.8.0",
   "language": "julia",
   "name": "julia-1.8"
  },
  "language_info": {
   "file_extension": ".jl",
   "mimetype": "application/julia",
   "name": "julia",
   "version": "1.8.0"
  },
  "orig_nbformat": 4
 },
 "nbformat": 4,
 "nbformat_minor": 2
}
