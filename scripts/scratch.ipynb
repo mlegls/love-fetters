{
 "cells": [
  {
   "cell_type": "code",
   "execution_count": 134,
   "metadata": {},
   "outputs": [],
   "source": [
    "using Dates\n",
    "using Twitter\n",
    "using OAuth\n",
    "using JSON"
   ]
  },
  {
   "cell_type": "code",
   "execution_count": 11,
   "metadata": {},
   "outputs": [
    {
     "data": {
      "text/plain": [
       "Dict{Symbol, String} with 4 entries:\n",
       "  :consumer_secret => \"RONNPwufK4S4MPPd3CohL6kdQ3pjIctGL4yvt4OP5NmAmF2dP7\"\n",
       "  :oauth_token     => \"1223167297495285760-GsTH08cn7gN2rm2Ks0DIWDRaLL8HHZ\"\n",
       "  :oauth_secret    => \"sF1VMAT3rVp5yp5mr7d23HSbaAyd6vPUyWPHDegjnT5Kg\"\n",
       "  :consumer_key    => \"qAxTANq8dqpN9p8qh76UWllCw\""
      ]
     },
     "metadata": {},
     "output_type": "display_data"
    }
   ],
   "source": [
    "twitterauth(\n",
    "  \"qAxTANq8dqpN9p8qh76UWllCw\",\n",
    "  \"RONNPwufK4S4MPPd3CohL6kdQ3pjIctGL4yvt4OP5NmAmF2dP7\",\n",
    "  \"1223167297495285760-GsTH08cn7gN2rm2Ks0DIWDRaLL8HHZ\",\n",
    "  \"sF1VMAT3rVp5yp5mr7d23HSbaAyd6vPUyWPHDegjnT5Kg\"\n",
    ")\n",
    "\n",
    "creds = Dict(\n",
    "  :consumer_key => \"qAxTANq8dqpN9p8qh76UWllCw\",\n",
    "  :consumer_secret => \"RONNPwufK4S4MPPd3CohL6kdQ3pjIctGL4yvt4OP5NmAmF2dP7\",\n",
    "  :oauth_token => \"1223167297495285760-GsTH08cn7gN2rm2Ks0DIWDRaLL8HHZ\",\n",
    "  :oauth_secret => \"sF1VMAT3rVp5yp5mr7d23HSbaAyd6vPUyWPHDegjnT5Kg\"\n",
    ")"
   ]
  },
  {
   "cell_type": "code",
   "execution_count": 12,
   "metadata": {},
   "outputs": [
    {
     "data": {
      "text/plain": [
       "get_oauth (generic function with 1 method)"
      ]
     },
     "metadata": {},
     "output_type": "display_data"
    }
   ],
   "source": [
    "get_oauth(endpoint::String, options::Dict) = oauth_request_resource(endpoint, \"GET\", options, creds[:consumer_key], creds[:consumer_secret], creds[:oauth_token], creds[:oauth_secret])"
   ]
  },
  {
   "cell_type": "code",
   "execution_count": 29,
   "metadata": {},
   "outputs": [
    {
     "data": {
      "text/plain": [
       "HTTP.Messages.Response:\n",
       "\"\"\"\n",
       "HTTP/1.1 200 OK\r\n",
       "date: Tue, 25 Oct 2022 18:56:59 GMT\r\n",
       "perf: 7626143928\r\n",
       "pragma: no-cache\r\n",
       "server: tsa_a\r\n",
       "status: 200 OK\r\n",
       "expires: Tue, 31 Mar 1981 05:00:00 GMT\r\n",
       "set-cookie: guest_id_ads=v1%3A166672421909784370; Max-Age=63072000; Expires=Thu, 24 Oct 2024 18:56:59 GMT; Path=/; Domain=.twitter.com; Secure; SameSite=None, personalization_id=\"v1_Xu0bkhQavgGeGkc0ZCZD/A==\"; Max-Age=63072000; Expires=Thu, 24 Oct 2024 18:56:59 GMT; Path=/; Domain=.twitter.com; Secure; SameSite=None, lang=en; Path=/, guest_id=v1%3A166672421909784370; Max-Age=63072000; Expires=Thu, 24 Oct 2024 18:56:59 GMT; Path=/; Domain=.twitter.com; Secure; SameSite=None\r\n",
       "content-type: application/json;charset=utf-8\r\n",
       "cache-control: no-cache, no-store, must-revalidate, pre-check=0, post-check=0\r\n",
       "last-modified: Tue, 25 Oct 2022 18:56:59 GMT\r\n",
       "x-transaction: a14fbccbc10bd74b\r\n",
       "content-length: 4280\r\n",
       "x-access-level: read-write-directmessages\r\n",
       "x-frame-options: SAMEORIGIN\r\n",
       "content-encoding: gzip\r\n",
       "x-transaction-id: a14fbccbc10bd74b\r\n",
       "x-xss-protection: 0\r\n",
       "x-rate-limit-limit: 15\r\n",
       "x-rate-limit-reset: 1666725119\r\n",
       "content-disposition: attachment; filename=json.json\r\n",
       "x-content-type-options: nosniff\r\n",
       "x-rate-limit-remaining: 14\r\n",
       "x-twitter-response-tags: BouncerCompliant\r\n",
       "strict-transport-security: max-age=631138519\r\n",
       "x-response-time: 51\r\n",
       "x-connection-hash: b43e104083f93e7ee3e012d9a2990d56c0ac487d666c76762e5f76f8f7c4c575\r\n",
       "\r\n",
       "{\"events\":[{\"type\":\"message_create\",\"id\":\"1584595252786171916\",\"created_timestamp\":\"1666631923277\",\"message_create\":{\"target\":{\"recipient_id\":\"1223167297495285760\"},\"sender_id\":\"1218322617117106176\",\"message_data\":{\"text\":\" https:\\/\\/t.co\\/9NcqnAGxo4\",\"entities\":{\"hashtags\":[],\"symbols\":[],\"user_mentions\":[],\"urls\":[{\"url\":\"https:\\/\\/t.co\\/9NcqnAGxo4\",\"expanded_url\":\"https:\\/\\/twitter.com\\/messages\\/media\\/1584595252786171916\",\"display_url\":\"pic.twitter.com\\/9NcqnAGxo4\",\"indices\":[1,24]}]},\"attachment\":{\"type\":\"media\",\"media\":{\"id\":1584595200827162625,\"id_str\":\"1584595200827162625\",\"indices\":[1,24],\"media_url\":\"https:\\/\\/ton.twitter.com\\/1.1\\/ton\\/data\\/dm\\/1584595252786171916\\/1584595200827162625\\/7nYwDvKx.jpg\",\"media_url_https\":\"https:\\/\\/ton.twitter.com\\/1.1\\/ton\\/data\\/dm\\/1584595252786171916\\/1584595200827162625\\/7nYwDvKx.jpg\",\"url\":\"https:\\/\\/t.co\\/9NcqnAGxo4\",\"display_url\":\"pic.twitter.com\\/9NcqnAGxo4\",\"expanded_url\":\"https:\\/\\/twitter.com\\/messages\\/media\\/1584595252786171916\",\n",
       "⋮\n",
       "15946-byte body\n",
       "\"\"\""
      ]
     },
     "metadata": {},
     "output_type": "display_data"
    }
   ],
   "source": [
    "dms = get_oauth(\n",
    "  \"https://api.twitter.com/1.1/direct_messages/events/list.json\",\n",
    "  Dict(\"count\" => \"20\"))"
   ]
  },
  {
   "cell_type": "code",
   "execution_count": 33,
   "metadata": {},
   "outputs": [
    {
     "data": {
      "text/plain": [
       "15946-element Vector{UInt8}:\n",
       " 0x7b\n",
       " 0x22\n",
       " 0x65\n",
       " 0x76\n",
       " 0x65\n",
       " 0x6e\n",
       " 0x74\n",
       " 0x73\n",
       " 0x22\n",
       " 0x3a\n",
       "    ⋮\n",
       " 0x79\n",
       " 0x4e\n",
       " 0x44\n",
       " 0x49\n",
       " 0x79\n",
       " 0x4f\n",
       " 0x41\n",
       " 0x22\n",
       " 0x7d"
      ]
     },
     "metadata": {},
     "output_type": "display_data"
    }
   ],
   "source": [
    "body = copy(dms.body)"
   ]
  },
  {
   "cell_type": "code",
   "execution_count": 34,
   "metadata": {},
   "outputs": [
    {
     "data": {
      "text/plain": [
       "\"{\\\"events\\\":[{\\\"type\\\":\\\"message_create\\\",\\\"id\\\":\\\"1584595252786171916\\\",\\\"created_timestamp\\\":\\\"1666631923277\\\",\\\"message_create\\\":{\\\"target\\\":{\\\"recipient_id\\\":\\\"1223167297495285760\\\"},\\\"sender_id\\\":\\\"1218322617117106176\\\",\\\"message_data\\\":{\\\"text\\\":\\\" https:\\\\/\\\\/t.co\\\\/9NcqnAGxo4\\\",\\\"entities\\\":{\\\"hasht\" ⋯ 15407 bytes ⋯ \"1200,\\\"resize\\\":\\\"fit\\\"}}}}}}}],\\\"apps\\\":{\\\"129032\\\":{\\\"id\\\":\\\"129032\\\",\\\"name\\\":\\\"Twitter for iPhone\\\",\\\"url\\\":\\\"http:\\\\/\\\\/twitter.com\\\\/download\\\\/iphone\\\"},\\\"3033300\\\":{\\\"id\\\":\\\"3033300\\\",\\\"name\\\":\\\"Twitter Web App\\\",\\\"url\\\":\\\"https:\\\\/\\\\/mobile.twitter.com\\\"}},\\\"next_cursor\\\":\\\"MTU4MTUwNTA3ODYxMTEyNDIyOA\\\"}\""
      ]
     },
     "metadata": {},
     "output_type": "display_data"
    }
   ],
   "source": [
    "str_body = String(body)"
   ]
  },
  {
   "cell_type": "code",
   "execution_count": 36,
   "metadata": {},
   "outputs": [
    {
     "data": {
      "text/plain": [
       "Dict{String, Any} with 3 entries:\n",
       "  \"events\"      => Any[Dict{String, Any}(\"created_timestamp\"=>\"1666631923277\", …\n",
       "  \"apps\"        => Dict{String, Any}(\"3033300\"=>Dict{String, Any}(\"name\"=>\"Twit…\n",
       "  \"next_cursor\" => \"MTU4MTUwNTA3ODYxMTEyNDIyOA\""
      ]
     },
     "metadata": {},
     "output_type": "display_data"
    }
   ],
   "source": [
    "parsed = JSON.parse(str_body)"
   ]
  },
  {
   "cell_type": "code",
   "execution_count": 71,
   "metadata": {},
   "outputs": [
    {
     "data": {
      "text/plain": [
       "\"https://ton.twitter.com/1.1/ton/data/dm/1584595252786171916/1584595200827162625/7nYwDvKx.jpg\""
      ]
     },
     "metadata": {},
     "output_type": "display_data"
    }
   ],
   "source": [
    "parsed[\"events\"][1][\"message_create\"][\"message_data\"][\"attachment\"][\"media\"][\"media_url_https\"]"
   ]
  },
  {
   "cell_type": "code",
   "execution_count": 83,
   "metadata": {},
   "outputs": [
    {
     "data": {
      "text/plain": [
       "Dict{String, Any} with 3 entries:\n",
       "  \"message_data\" => Dict{String, Any}(\"entities\"=>Dict{String, Any}(\"symbols\"=>…\n",
       "  \"target\"       => Dict{String, Any}(\"recipient_id\"=>\"1223167297495285760\")\n",
       "  \"sender_id\"    => \"1218322617117106176\""
      ]
     },
     "metadata": {},
     "output_type": "display_data"
    }
   ],
   "source": [
    "parsed[\"events\"][1][\"message_create\"]"
   ]
  },
  {
   "cell_type": "code",
   "execution_count": null,
   "metadata": {},
   "outputs": [],
   "source": [
    "clara_id = \"1218322617117106176\""
   ]
  },
  {
   "cell_type": "code",
   "execution_count": 67,
   "metadata": {},
   "outputs": [
    {
     "data": {
      "text/plain": [
       "\"No, preference does not disappear - and yet what do you know of me save for my ugliness? My suffering? Isn't that yet more ugliness - or rather, isn't even my alchemizing of it, so severely, what is ugly to you here? What do you really love in me? I'm curious. Because I\" ⋯ 4835 bytes ⋯ \"nothing, at the end the scattered wondrous sound will be silence - of awe and ordinary muteness; and the day of ashes will be every waking and resting - as renewed through epiphany and as dulled through repetition.\\n\\nNow are we starting to get it? https://t.co/5wnHlTxO9e\""
      ]
     },
     "metadata": {},
     "output_type": "display_data"
    }
   ],
   "source": [
    "parsed[\"events\"][2][\"message_create\"][\"message_data\"][\"text\"]"
   ]
  },
  {
   "cell_type": "code",
   "execution_count": 72,
   "metadata": {},
   "outputs": [
    {
     "data": {
      "text/plain": [
       "HTTP.Messages.Response:\n",
       "\"\"\"\n",
       "HTTP/1.1 200 OK\r\n",
       "date: Tue, 25 Oct 2022 19:09:40 GMT\r\n",
       "etag: \"MrW/1nFzhv897cmm71Iq9A==\"\r\n",
       "perf: 7626143928\r\n",
       "server: tsa_a\r\n",
       "expires: Tue, 01 Nov 2022 19:09:40 GMT\r\n",
       "set-cookie: guest_id_marketing=v1%3A166672498036934579; Max-Age=63072000; Expires=Thu, 24 Oct 2024 19:09:40 GMT; Path=/; Domain=.twitter.com; Secure; SameSite=None, guest_id_ads=v1%3A166672498036934579; Max-Age=63072000; Expires=Thu, 24 Oct 2024 19:09:40 GMT; Path=/; Domain=.twitter.com; Secure; SameSite=None, personalization_id=\"v1_WAYcQ7ikYbMT6mM93JfpGA==\"; Max-Age=63072000; Expires=Thu, 24 Oct 2024 19:09:40 GMT; Path=/; Domain=.twitter.com; Secure; SameSite=None, guest_id=v1%3A166672498036934579; Max-Age=63072000; Expires=Thu, 24 Oct 2024 19:09:40 GMT; Path=/; Domain=.twitter.com; Secure; SameSite=None\r\n",
       "content-md5: MrW/1nFzhv897cmm71Iq9A==\r\n",
       "content-type: image/jpeg\r\n",
       "accept-ranges: bytes\r\n",
       "cache-control: no-store\r\n",
       "last-modified: Mon, 24 Oct 2022 17:18:43 GMT\r\n",
       "surrogate-key: dm\r\n",
       "content-length: 2043393\r\n",
       "x-transaction-id: eae981ca42ea5a6f\r\n",
       "x-rate-limit-limit: 50\r\n",
       "x-rate-limit-reset: 1666725880\r\n",
       "timing-allow-origin: https://twitter.com, https://mobile.twitter.com\r\n",
       "x-ton-expected-size: 2043393\r\n",
       "x-content-type-options: nosniff\r\n",
       "x-rate-limit-remaining: 49\r\n",
       "strict-transport-security: max-age=631138519\r\n",
       "x-response-time: 55\r\n",
       "x-connection-hash: 30fe3ac1f0aa86862dcfad385ad231462e939e342da5a0dd7012857a702d09ac\r\n",
       "\r\n",
       "\n",
       "⋮\n",
       "2043393-byte body\n",
       "\"\"\""
      ]
     },
     "metadata": {},
     "output_type": "display_data"
    }
   ],
   "source": [
    "image = get_oauth(\"https://ton.twitter.com/1.1/ton/data/dm/1584595252786171916/1584595200827162625/7nYwDvKx.jpg\", Dict())"
   ]
  },
  {
   "cell_type": "code",
   "execution_count": 77,
   "metadata": {},
   "outputs": [
    {
     "data": {
      "text/plain": [
       "2043393-element Vector{UInt8}:\n",
       " 0xff\n",
       " 0xd8\n",
       " 0xff\n",
       " 0xe0\n",
       " 0x00\n",
       " 0x10\n",
       " 0x4a\n",
       " 0x46\n",
       " 0x49\n",
       " 0x46\n",
       "    ⋮\n",
       " 0xd4\n",
       " 0x10\n",
       " 0x47\n",
       " 0xa0\n",
       " 0x9c\n",
       " 0x90\n",
       " 0x87\n",
       " 0xff\n",
       " 0xd9"
      ]
     },
     "metadata": {},
     "output_type": "display_data"
    }
   ],
   "source": [
    "img_body = copy(image.body)"
   ]
  },
  {
   "cell_type": "code",
   "execution_count": 78,
   "metadata": {},
   "outputs": [
    {
     "data": {
      "text/plain": [
       "2043393"
      ]
     },
     "metadata": {},
     "output_type": "display_data"
    }
   ],
   "source": [
    "open(\"test.jpg\", \"w\") do f\n",
    "  write(f, img_body)\n",
    "end"
   ]
  },
  {
   "cell_type": "code",
   "execution_count": 88,
   "metadata": {},
   "outputs": [
    {
     "data": {
      "text/plain": [
       "6-element Vector{Dict{String, Any}}:\n",
       " Dict(\"entities\" => Dict{String, Any}(\"symbols\" => Any[], \"urls\" => Any[Dict{String, Any}(\"display_url\" => \"pic.twitter.com/9NcqnAGxo4\", \"indices\" => Any[1, 24], \"expanded_url\" => \"https://twitter.com/messages/media/1584595252786171916\", \"url\" => \"https://t.co/9NcqnAGxo4\")], \"user_mentions\" => Any[], \"hashtags\" => Any[]), \"text\" => \" https://t.co/9NcqnAGxo4\", \"attachment\" => Dict{String, Any}(\"media\" => Dict{String, Any}(\"sizes\" => Dict{String, Any}(\"medium\" => Dict{String, Any}(\"w\" => 1200, \"h\" => 800, \"resize\" => \"fit\"), \"small\" => Dict{String, Any}(\"w\" => 680, \"h\" => 453, \"resize\" => \"fit\"), \"large\" => Dict{String, Any}(\"w\" => 2048, \"h\" => 1365, \"resize\" => \"fit\"), \"thumb\" => Dict{String, Any}(\"w\" => 150, \"h\" => 150, \"resize\" => \"crop\")), \"id_str\" => \"1584595200827162625\", \"display_url\" => \"pic.twitter.com/9NcqnAGxo4\", \"id\" => 1584595200827162625, \"indices\" => Any[1, 24], \"media_url\" => \"https://ton.twitter.com/1.1/ton/data/dm/1584595252786171916/1584595200827162625/7nYwDvKx.jpg\", \"expanded_url\" => \"https://twitter.com/messages/media/1584595252786171916\", \"url\" => \"https://t.co/9NcqnAGxo4\", \"media_url_https\" => \"https://ton.twitter.com/1.1/ton/data/dm/1584595252786171916/1584595200827162625/7nYwDvKx.jpg\", \"type\" => \"photo\"…), \"type\" => \"media\"))\n",
       " Dict(\"entities\" => Dict{String, Any}(\"symbols\" => Any[], \"urls\" => Any[Dict{String, Any}(\"display_url\" => \"pic.twitter.com/5wnHlTxO9e\", \"indices\" => Any[5352, 5375], \"expanded_url\" => \"https://twitter.com/messages/media/1584595145734950925\", \"url\" => \"https://t.co/5wnHlTxO9e\")], \"user_mentions\" => Any[], \"hashtags\" => Any[]), \"text\" => \"No, preference does not disappear - and yet what do you know of me save for my ugliness? My suffering? Isn't that yet more ugliness - or rather, isn't even my alchemizing of it, so severely, what is ugly to you here? What do you really love in me? I'm curious. Because I feel your love - not unpleasantly in the friction it causes, the fire it starts as your match runs away with my flesh and soul - to be as severe as mine. I think you do, at the end, start to get it.\\n\\nI will say what I love in you, En. I love that, despite your preferences, you do not lose sight - you are, it turns out, unwavering - of what exceeds them and creates them. Preferences are partially creative solutions to a given game, or that extend a given strategy, and our preferences may then always be replaced - developing a taste for an exchange of preferences itself a preference that speeds better solutions - until the moment at which the game itself is solved and no longer needful of efficiency and our preferences become, simply, ourselves. Now am I starting to get it?\\n\\nThe game is over for you. I, still hungry for finality, look ridiculous. If the game is not over for everyone though, is it truly over? Most especially because we might be forced to play it restricted, not quite to past efficiencies, but to an aesthetics which speaks to the other's need for closure? I ask myself about my ugliness constantly. Why do I allow it? How can I bear it? It's because I know there are others who share it who have no off-setting qualities and I've always been wrecked by that, by that fact at its purest. Did I show you that one letter of mine, in which I write, of an evil of mine or just of my evil, that I was \\\"Satan to be Job to show that Satan too is saved\\\"? I guess what it all amounts to is that those overly disdainful of ugliness seem to believe their beauty is earned. And it may be! Beauty is work. Yet what then could take more work, could be more earned, than turning what is unbearably ugly into what is unbearably beautiful? This, perhaps, is the meaning of any - and not merely my own - sacrifice. To alchemize senseless loss into what has to be sensibly judged good, and beautiful, and true. For if \\\"everything we want is right there, because everything is already perfect\\\" the only sin is shock.\\n\\nHa, look where I've wound up again - dismissing preference, or revealing mine to be pathetic, ugly, despicable. Yet, here again I have to ask again, what do we do with those others who will never get how beautiful everything already is? Are they of no concern to you? And yet if our love remains private isn't it liable to disappear? Is that your preference? And yet wouldn't that preference to disappear - to accept - just as much be my lack of preference? And so where, again, is the friction...\\n\\nMaybe there are no others. And maybe here is the friction:\\n\\nIf there is only one self, if the Self is someone's name, we cannot say \\\"I don't like it\\\" without saying \\\"I don't like you\\\". Because the sin is, to the Self, the body, the personality, the mind, and the heart. The sinner still loved is nothing but the Self itself - which is to say: nothing.\\n\\nYou intend to destroy everything. Do you intend to destroy everything - for me? For our love? Do you, finally, believe me to be the Self? I am, to be clear, but my intentions are different. I intend to destroy everything to show that nothing can be destroyed, that it is all needed and all secure. I want our love to ground the love of those you might deem, at least at first, as unworthy of it. 'Nothing can be lost', for you, seems to result in indiscriminate killing, knowing what is of value will shine through the blood, like your polished gem. For me what can't be lost is the All, which is in everything, and thereby licenses everything unto contradiction. My preferences are real but I relate to them as parts of a greater whole which is the same for everyone. I don't have much faith in my severity, after all, except for its ability to provoke something in you - in others - whose response to it provokes something in me and so on until the spiral itself may be walked as the very spine of those who ever thought anything required risking - and should anyone decide to jump they'll know their way around from the very bottom.\\n\\nWhy, anyway, is there ugliness, death, anything there to be refused? To teach us what must be refused? And yet why give us anything to be refused to begin with? Is the Good not refusing itself, in giving us something to refuse, in order to know itself as incapable of refusing itself? Is the transmutation not accomplished in a flash of realization vaporizing of fixity as - or, well, as - an atom bomb?\\n\\nI am much too tired to kill anyone except for everyone - that infinite flash, in rendering none separate, being nothing. Any grime covering your gem will remain, but will now be inoffensive - and any cleaning of it will be just as inoffensive. All worldly will be redeemed - all be worth smiling about as palpable, imperfect, real...\\n\\nBecause the infinite wants to know itself - and given knowledge itself changes nothing, at the end the scattered wondrous sound will be silence - of awe and ordinary muteness; and the day of ashes will be every waking and resting - as renewed through epiphany and as dulled through repetition.\\n\\nNow are we starting to get it? https://t.co/5wnHlTxO9e\", \"attachment\" => Dict{String, Any}(\"media\" => Dict{String, Any}(\"sizes\" => Dict{String, Any}(\"medium\" => Dict{String, Any}(\"w\" => 1200, \"h\" => 800, \"resize\" => \"fit\"), \"small\" => Dict{String, Any}(\"w\" => 680, \"h\" => 453, \"resize\" => \"fit\"), \"large\" => Dict{String, Any}(\"w\" => 2048, \"h\" => 1365, \"resize\" => \"fit\"), \"thumb\" => Dict{String, Any}(\"w\" => 150, \"h\" => 150, \"resize\" => \"crop\")), \"id_str\" => \"1584594777131065345\", \"display_url\" => \"pic.twitter.com/5wnHlTxO9e\", \"id\" => 1584594777131065345, \"indices\" => Any[5352, 5375], \"media_url\" => \"https://ton.twitter.com/1.1/ton/data/dm/1584595145734950925/1584594777131065345/U2W7WMen.jpg\", \"expanded_url\" => \"https://twitter.com/messages/media/1584595145734950925\", \"url\" => \"https://t.co/5wnHlTxO9e\", \"media_url_https\" => \"https://ton.twitter.com/1.1/ton/data/dm/1584595145734950925/1584594777131065345/U2W7WMen.jpg\", \"type\" => \"photo\"…), \"type\" => \"media\"))\n",
       " Dict(\"entities\" => Dict{String, Any}(\"symbols\" => Any[], \"urls\" => Any[Dict{String, Any}(\"display_url\" => \"pic.twitter.com/foaEcYsLws\", \"indices\" => Any[1, 24], \"expanded_url\" => \"https://twitter.com/messages/media/1581505819925008388\", \"url\" => \"https://t.co/foaEcYsLws\")], \"user_mentions\" => Any[], \"hashtags\" => Any[]), \"text\" => \" https://t.co/foaEcYsLws\", \"attachment\" => Dict{String, Any}(\"media\" => Dict{String, Any}(\"sizes\" => Dict{String, Any}(\"medium\" => Dict{String, Any}(\"w\" => 675, \"h\" => 1200, \"resize\" => \"fit\"), \"small\" => Dict{String, Any}(\"w\" => 383, \"h\" => 680, \"resize\" => \"fit\"), \"large\" => Dict{String, Any}(\"w\" => 1152, \"h\" => 2048, \"resize\" => \"fit\"), \"thumb\" => Dict{String, Any}(\"w\" => 150, \"h\" => 150, \"resize\" => \"crop\")), \"id_str\" => \"1581505759917080578\", \"display_url\" => \"pic.twitter.com/foaEcYsLws\", \"id\" => 1581505759917080578, \"indices\" => Any[1, 24], \"media_url\" => \"https://ton.twitter.com/1.1/ton/data/dm/1581505819925008388/1581505759917080578/QLzRdWbC.jpg\", \"expanded_url\" => \"https://twitter.com/messages/media/1581505819925008388\", \"url\" => \"https://t.co/foaEcYsLws\", \"media_url_https\" => \"https://ton.twitter.com/1.1/ton/data/dm/1581505819925008388/1581505759917080578/QLzRdWbC.jpg\", \"type\" => \"photo\"…), \"type\" => \"media\"))\n",
       " Dict(\"entities\" => Dict{String, Any}(\"symbols\" => Any[], \"urls\" => Any[Dict{String, Any}(\"display_url\" => \"pic.twitter.com/DGAUlhI1M7\", \"indices\" => Any[1, 24], \"expanded_url\" => \"https://twitter.com/messages/media/1581505593558302724\", \"url\" => \"https://t.co/DGAUlhI1M7\")], \"user_mentions\" => Any[], \"hashtags\" => Any[]), \"text\" => \" https://t.co/DGAUlhI1M7\", \"attachment\" => Dict{String, Any}(\"media\" => Dict{String, Any}(\"sizes\" => Dict{String, Any}(\"medium\" => Dict{String, Any}(\"w\" => 675, \"h\" => 1200, \"resize\" => \"fit\"), \"small\" => Dict{String, Any}(\"w\" => 383, \"h\" => 680, \"resize\" => \"fit\"), \"large\" => Dict{String, Any}(\"w\" => 1152, \"h\" => 2048, \"resize\" => \"fit\"), \"thumb\" => Dict{String, Any}(\"w\" => 150, \"h\" => 150, \"resize\" => \"crop\")), \"id_str\" => \"1581505573845192706\", \"display_url\" => \"pic.twitter.com/DGAUlhI1M7\", \"id\" => 1581505573845192706, \"indices\" => Any[1, 24], \"media_url\" => \"https://ton.twitter.com/1.1/ton/data/dm/1581505593558302724/1581505573845192706/ktJhUEm8.jpg\", \"expanded_url\" => \"https://twitter.com/messages/media/1581505593558302724\", \"url\" => \"https://t.co/DGAUlhI1M7\", \"media_url_https\" => \"https://ton.twitter.com/1.1/ton/data/dm/1581505593558302724/1581505573845192706/ktJhUEm8.jpg\", \"type\" => \"photo\"…), \"type\" => \"media\"))\n",
       " Dict(\"entities\" => Dict{String, Any}(\"symbols\" => Any[], \"urls\" => Any[Dict{String, Any}(\"display_url\" => \"pic.twitter.com/TTUbRFyq8w\", \"indices\" => Any[1, 24], \"expanded_url\" => \"https://twitter.com/messages/media/1581505225025806340\", \"url\" => \"https://t.co/TTUbRFyq8w\")], \"user_mentions\" => Any[], \"hashtags\" => Any[]), \"text\" => \" https://t.co/TTUbRFyq8w\", \"attachment\" => Dict{String, Any}(\"media\" => Dict{String, Any}(\"sizes\" => Dict{String, Any}(\"medium\" => Dict{String, Any}(\"w\" => 675, \"h\" => 1200, \"resize\" => \"fit\"), \"small\" => Dict{String, Any}(\"w\" => 383, \"h\" => 680, \"resize\" => \"fit\"), \"large\" => Dict{String, Any}(\"w\" => 1152, \"h\" => 2048, \"resize\" => \"fit\"), \"thumb\" => Dict{String, Any}(\"w\" => 150, \"h\" => 150, \"resize\" => \"crop\")), \"id_str\" => \"1581505199121866752\", \"display_url\" => \"pic.twitter.com/TTUbRFyq8w\", \"id\" => 1581505199121866752, \"indices\" => Any[1, 24], \"media_url\" => \"https://ton.twitter.com/1.1/ton/data/dm/1581505225025806340/1581505199121866752/he4OwzLQ.jpg\", \"expanded_url\" => \"https://twitter.com/messages/media/1581505225025806340\", \"url\" => \"https://t.co/TTUbRFyq8w\", \"media_url_https\" => \"https://ton.twitter.com/1.1/ton/data/dm/1581505225025806340/1581505199121866752/he4OwzLQ.jpg\", \"type\" => \"photo\"…), \"type\" => \"media\"))\n",
       " Dict(\"entities\" => Dict{String, Any}(\"symbols\" => Any[], \"urls\" => Any[Dict{String, Any}(\"display_url\" => \"pic.twitter.com/3ZXeTZVkfy\", \"indices\" => Any[1, 24], \"expanded_url\" => \"https://twitter.com/messages/media/1581505078611124228\", \"url\" => \"https://t.co/3ZXeTZVkfy\")], \"user_mentions\" => Any[], \"hashtags\" => Any[]), \"text\" => \" https://t.co/3ZXeTZVkfy\", \"attachment\" => Dict{String, Any}(\"media\" => Dict{String, Any}(\"sizes\" => Dict{String, Any}(\"medium\" => Dict{String, Any}(\"w\" => 675, \"h\" => 1200, \"resize\" => \"fit\"), \"small\" => Dict{String, Any}(\"w\" => 383, \"h\" => 680, \"resize\" => \"fit\"), \"large\" => Dict{String, Any}(\"w\" => 1152, \"h\" => 2048, \"resize\" => \"fit\"), \"thumb\" => Dict{String, Any}(\"w\" => 150, \"h\" => 150, \"resize\" => \"crop\")), \"id_str\" => \"1581505058839187456\", \"display_url\" => \"pic.twitter.com/3ZXeTZVkfy\", \"id\" => 1581505058839187456, \"indices\" => Any[1, 24], \"media_url\" => \"https://ton.twitter.com/1.1/ton/data/dm/1581505078611124228/1581505058839187456/7v5KuoBf.jpg\", \"expanded_url\" => \"https://twitter.com/messages/media/1581505078611124228\", \"url\" => \"https://t.co/3ZXeTZVkfy\", \"media_url_https\" => \"https://ton.twitter.com/1.1/ton/data/dm/1581505078611124228/1581505058839187456/7v5KuoBf.jpg\", \"type\" => \"photo\"…), \"type\" => \"media\"))"
      ]
     },
     "metadata": {},
     "output_type": "display_data"
    }
   ],
   "source": [
    "dms = get_oauth(\"https://api.twitter.com/1.1/direct_messages/events/list.json\", \n",
    "  Dict(\"count\" => \"20\")).body |> String |> JSON.parse |> \n",
    "  res -> res[\"events\"] |>\n",
    "  events ->  [dm[\"message_create\"][\"message_data\"] for dm in events if dm[\"message_create\"][\"sender_id\"] == \"1218322617117106176\"]"
   ]
  },
  {
   "cell_type": "code",
   "execution_count": 133,
   "metadata": {},
   "outputs": [
    {
     "data": {
      "text/plain": [
       "Dict{String, Any} with 10 entries:\n",
       "  \"sizes\"           => Dict{String, Any}(\"medium\"=>Dict{String, Any}(\"w\"=>675, …\n",
       "  \"id_str\"          => \"1581505058839187456\"\n",
       "  \"display_url\"     => \"pic.twitter.com/3ZXeTZVkfy\"\n",
       "  \"id\"              => 1581505058839187456\n",
       "  \"indices\"         => Any[1, 24]\n",
       "  \"media_url\"       => \"https://ton.twitter.com/1.1/ton/data/dm/158150507861112…\n",
       "  \"expanded_url\"    => \"https://twitter.com/messages/media/1581505078611124228\"\n",
       "  \"url\"             => \"https://t.co/3ZXeTZVkfy\"\n",
       "  \"media_url_https\" => \"https://ton.twitter.com/1.1/ton/data/dm/158150507861112…\n",
       "  \"type\"            => \"photo\""
      ]
     },
     "metadata": {},
     "output_type": "display_data"
    }
   ],
   "source": [
    "dms[6][\"attachment\"][\"media\"]"
   ]
  },
  {
   "cell_type": "code",
   "execution_count": 100,
   "metadata": {},
   "outputs": [
    {
     "data": {
      "text/plain": [
       "true"
      ]
     },
     "metadata": {},
     "output_type": "display_data"
    }
   ],
   "source": [
    "startswith(dms[1][\"text\"], \" https://t.co/\")"
   ]
  },
  {
   "cell_type": "code",
   "execution_count": 101,
   "metadata": {},
   "outputs": [
    {
     "data": {
      "text/plain": [
       "\"abc  gab \""
      ]
     },
     "metadata": {},
     "output_type": "display_data"
    }
   ],
   "source": [
    "replace(\"abc def gab dasf\", r\"\\bd\\w*\\b\" => \"\")"
   ]
  },
  {
   "cell_type": "code",
   "execution_count": 120,
   "metadata": {},
   "outputs": [
    {
     "data": {
      "text/plain": [
       "Nothing"
      ]
     },
     "metadata": {},
     "output_type": "display_data"
    }
   ],
   "source": [
    "match(r\"^ https://t.co/\\w+$\", \" https://t.co/foaEcYsLws The\") |> typeof"
   ]
  },
  {
   "cell_type": "code",
   "execution_count": 135,
   "metadata": {},
   "outputs": [
    {
     "data": {
      "text/plain": [
       "2022-10-25T14:53:21.741"
      ]
     },
     "metadata": {},
     "output_type": "display_data"
    }
   ],
   "source": [
    "now()"
   ]
  },
  {
   "cell_type": "code",
   "execution_count": 138,
   "metadata": {},
   "outputs": [
    {
     "data": {
      "text/plain": [
       "(:instant,)"
      ]
     },
     "metadata": {},
     "output_type": "display_data"
    }
   ],
   "source": [
    "fieldnames(DateTime)"
   ]
  },
  {
   "cell_type": "code",
   "execution_count": 140,
   "metadata": {},
   "outputs": [
    {
     "data": {
      "text/plain": [
       "2022-10-25"
      ]
     },
     "metadata": {},
     "output_type": "display_data"
    }
   ],
   "source": [
    "Date(now())"
   ]
  },
  {
   "cell_type": "code",
   "execution_count": null,
   "metadata": {},
   "outputs": [],
   "source": []
  }
 ],
 "metadata": {
  "kernelspec": {
   "display_name": "Julia 1.8.0",
   "language": "julia",
   "name": "julia-1.8"
  },
  "language_info": {
   "file_extension": ".jl",
   "mimetype": "application/julia",
   "name": "julia",
   "version": "1.8.0"
  },
  "orig_nbformat": 4
 },
 "nbformat": 4,
 "nbformat_minor": 2
}
